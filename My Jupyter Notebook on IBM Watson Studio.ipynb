{
 "cells": [
  {
   "cell_type": "markdown",
   "id": "a116bdcb-43c5-47a9-aef2-037611fe8265",
   "metadata": {},
   "source": [
    "# My Jupyter Notebook on IBM Watson Studio"
   ]
  },
  {
   "cell_type": "markdown",
   "id": "3781ebef-1f1e-4dc5-809e-8bc8d3202fe7",
   "metadata": {},
   "source": [
    "**Syed Bazil Ali**  <br> \n",
    "Data Scientist\n"
   ]
  },
  {
   "cell_type": "markdown",
   "id": "f8dab22f-02cd-412e-aa4f-47f6b4a7bb23",
   "metadata": {},
   "source": [
    "*I am interested in data science because I love telling stories with data and using data to help bring that data to life. * "
   ]
  },
  {
   "cell_type": "markdown",
   "id": "48db27bf-1433-40b2-b10f-551a33f3ef79",
   "metadata": {},
   "source": [
    "### Generates a random number between 80 and 100"
   ]
  },
  {
   "cell_type": "code",
   "execution_count": 2,
   "id": "05c05e99-1df5-4549-bc7d-cc2d0bad0bfa",
   "metadata": {},
   "outputs": [
    {
     "name": "stdout",
     "output_type": "stream",
     "text": [
      "82\n"
     ]
    }
   ],
   "source": [
    "import random\n",
    "\n",
    "Random_int = random.randint(80,100)\n",
    "\n",
    "print(Random_int)"
   ]
  },
  {
   "cell_type": "markdown",
   "id": "3a53f6ec-bf9b-4d0b-ae23-0c6cd7e11e14",
   "metadata": {},
   "source": [
    "I am choosing to showing following things in this cell: <br> \n",
    "- Bullets \n",
    "- Numbered list \n",
    "- Hyperlinks   <br> <br> \n",
    "\n",
    "1. Numbered list 1\n",
    "2. Numbered list 2\n",
    "3. Numbered list 3\n",
    "\n",
    "[Grab an amazing Christmas gift for her by clicking here](https://giftinery.com/christmas-gifts-for-women/)"
   ]
  }
 ],
 "metadata": {
  "kernelspec": {
   "display_name": "Python",
   "language": "python",
   "name": "conda-env-python-py"
  },
  "language_info": {
   "codemirror_mode": {
    "name": "ipython",
    "version": 3
   },
   "file_extension": ".py",
   "mimetype": "text/x-python",
   "name": "python",
   "nbconvert_exporter": "python",
   "pygments_lexer": "ipython3",
   "version": "3.7.12"
  }
 },
 "nbformat": 4,
 "nbformat_minor": 5
}
